{
 "cells": [
  {
   "cell_type": "code",
   "execution_count": 2,
   "id": "a6669292",
   "metadata": {
    "ExecuteTime": {
     "end_time": "2022-10-10T20:21:00.386168Z",
     "start_time": "2022-10-10T20:21:00.383258Z"
    }
   },
   "outputs": [],
   "source": [
    "import pandas as pd"
   ]
  },
  {
   "cell_type": "code",
   "execution_count": 33,
   "id": "f1b2f335",
   "metadata": {
    "ExecuteTime": {
     "end_time": "2022-10-10T20:37:14.290407Z",
     "start_time": "2022-10-10T20:37:14.272841Z"
    }
   },
   "outputs": [
    {
     "data": {
      "text/plain": [
       "4271287.73"
      ]
     },
     "execution_count": 33,
     "metadata": {},
     "output_type": "execute_result"
    }
   ],
   "source": [
    "ds = pd.read_csv('Nigerian_Car_Prices.csv', sep = ',')\n",
    "\n",
    "Prices = ds['Price'].apply(lambda x: int(x.replace(',', '')))\n",
    "Prices = pd.Series(data = Prices , dtype = 'int64')\n",
    "round(Prices.mean(), 2)\n"
   ]
  },
  {
   "cell_type": "code",
   "execution_count": null,
   "id": "dbb2f3e6",
   "metadata": {},
   "outputs": [],
   "source": []
  }
 ],
 "metadata": {
  "kernelspec": {
   "display_name": "Python 3 (ipykernel)",
   "language": "python",
   "name": "python3"
  },
  "language_info": {
   "codemirror_mode": {
    "name": "ipython",
    "version": 3
   },
   "file_extension": ".py",
   "mimetype": "text/x-python",
   "name": "python",
   "nbconvert_exporter": "python",
   "pygments_lexer": "ipython3",
   "version": "3.8.10"
  },
  "varInspector": {
   "cols": {
    "lenName": 16,
    "lenType": 16,
    "lenVar": 40
   },
   "kernels_config": {
    "python": {
     "delete_cmd_postfix": "",
     "delete_cmd_prefix": "del ",
     "library": "var_list.py",
     "varRefreshCmd": "print(var_dic_list())"
    },
    "r": {
     "delete_cmd_postfix": ") ",
     "delete_cmd_prefix": "rm(",
     "library": "var_list.r",
     "varRefreshCmd": "cat(var_dic_list()) "
    }
   },
   "types_to_exclude": [
    "module",
    "function",
    "builtin_function_or_method",
    "instance",
    "_Feature"
   ],
   "window_display": false
  }
 },
 "nbformat": 4,
 "nbformat_minor": 5
}
