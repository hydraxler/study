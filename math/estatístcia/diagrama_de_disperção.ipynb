{
 "cells": [
  {
   "cell_type": "markdown",
   "id": "94964276-0b77-4c4b-8c8e-96b123dbdbc6",
   "metadata": {},
   "source": [
    "[khan academy](https://pt.khanacademy.org/math/em-mat-estatistica/x5d13d3b4b5b8c419:medidas-de-dispersao#x5d13d3b4b5b8c419:graficos-de-dispersao)\n",
    "\n",
    "[artigo moki](https://site.moki.com.br/diagrama-de-dispersao/)\n",
    "\n",
    "[artigo fm2s](https://www.fm2s.com.br/grafico-de-dispersao/)"
   ]
  },
  {
   "cell_type": "markdown",
   "id": "4c98f9d2",
   "metadata": {
    "tags": []
   },
   "source": [
    "\n",
    "# Diagrama de disperção"
   ]
  },
  {
   "cell_type": "markdown",
   "id": "7f63683a",
   "metadata": {
    "tags": []
   },
   "source": [
    "## Eixo horizontal -"
   ]
  },
  {
   "cell_type": "markdown",
   "id": "448971dd",
   "metadata": {},
   "source": [
    "Variável *movimentadora*\n",
    "Variável *independente*\n",
    "Variável *base*\n",
    "\n",
    "\n",
    "\n",
    "normalmente o eixo \"x\", ele é a referência para o comportamento, \"y em função de x\""
   ]
  },
  {
   "cell_type": "markdown",
   "id": "a1ffae2c",
   "metadata": {
    "jp-MarkdownHeadingCollapsed": true,
    "tags": []
   },
   "source": [
    "### exemplo"
   ]
  },
  {
   "cell_type": "markdown",
   "id": "9169855e",
   "metadata": {},
   "source": [
    "nessa imagem temos que o eixo horizontal representa a **quantidade em horas que os individuos podem ter se exercitáto dor semana**\n",
    "\n",
    "![diagrama de disperção](https://ferramentas-da-qualidade.portaliso.com/wp-content/uploads/2019/07/Gr%C3%A1fico-dispers%C3%A3o-ferramenta-qualidade.png)\n",
    "\n",
    "cada ponto é um individuo que possui um valor para cada variável, ou seja aparenta ser uma cordenada\n",
    "\n",
    "quanto mais a direita a cordenada estiver posicionada, mais horas de lazer semanais aquele individuo tem"
   ]
  },
  {
   "cell_type": "markdown",
   "id": "ec1b1f44",
   "metadata": {
    "tags": []
   },
   "source": [
    "## Eixo vertical |"
   ]
  },
  {
   "cell_type": "markdown",
   "id": "c50f9b88",
   "metadata": {},
   "source": [
    "Variável *movimentada*\n",
    "Variável *dependente*\n",
    "\n",
    "normalmente o eixo \"y\", ele varia em relação ao valor de x\n",
    "\n",
    "se x aumenta, a tendecia é que y aumente ou diminua?"
   ]
  },
  {
   "cell_type": "markdown",
   "id": "6fb5d208",
   "metadata": {
    "jp-MarkdownHeadingCollapsed": true,
    "tags": []
   },
   "source": [
    "### exemplo"
   ]
  },
  {
   "cell_type": "markdown",
   "id": "5112702f",
   "metadata": {},
   "source": [
    "nessa imagem temos que o eixo vertical representa a **altura de um individuo**\n",
    "\n",
    "![diagrama de disperção](https://leansixsigmabrasil.com.br/site/wp-content/uploads/2019/12/Diagrama-de-dispers%C3%A3o-300x180.jpg)\n",
    "\n",
    "cada ponto é um individuo que possui um valor para cada variável, ou seja aparenta ser uma cordenada\n",
    "\n",
    "quanto mais alta a cordenada estiver posicionada, maior a altura daquele individuo representado pela cordenada"
   ]
  },
  {
   "cell_type": "markdown",
   "id": "097e5790",
   "metadata": {
    "tags": []
   },
   "source": [
    "## Aparencia de uma correlação"
   ]
  },
  {
   "cell_type": "markdown",
   "id": "e0d8273a",
   "metadata": {},
   "source": [
    "Tentamos encontrar uma correlação associando um \"tendência do eixo vertical em relação a evolução do eixo horizontal\"."
   ]
  },
  {
   "cell_type": "markdown",
   "id": "e8b4fa73-85fe-4f59-b14a-744152719437",
   "metadata": {
    "jp-MarkdownHeadingCollapsed": true,
    "tags": []
   },
   "source": [
    "### exemplo de gráficos de disperção"
   ]
  },
  {
   "cell_type": "markdown",
   "id": "c26f792e",
   "metadata": {
    "tags": []
   },
   "source": [
    "<img src=\"https://dataunirio.github.io/AulaCorrelacao/img/correlacao.png\" width=\"700\">\n",
    "Mesmo sem entender os termos sabemos que quando as posições do eixo vertical estão \"parecendo seguindo uma tendência\" temos algo próximo de uma correlação. e quanto mais nítido for essa tendência, mais forte será a correlação.\n",
    "\n",
    "![b](https://media-exp1.licdn.com/dms/image/C4E12AQH76-00-QrZfQ/article-inline_image-shrink_1000_1488/0/1603827214723?e=1671062400&v=beta&t=jOP3HpQQfKJpki7ZY_p6239UOWc_QXrMyRwNsj4cQAA)\n",
    "\n",
    "Estes foram exemplos de algumas correlações lineares, existem ainda as correlações não lineares.\n",
    "\n",
    "![c](https://knoow.net/wp-content/uploads/2018/12/correlacao-nao-linear-1.jpg)\n",
    "\n",
    "Mas \"tipos de correlações\" é assunto para outro tópico."
   ]
  },
  {
   "cell_type": "markdown",
   "id": "6dc8354c",
   "metadata": {
    "jp-MarkdownHeadingCollapsed": true,
    "tags": []
   },
   "source": [
    "## Resumo"
   ]
  },
  {
   "cell_type": "markdown",
   "id": "910d3fe2",
   "metadata": {},
   "source": [
    "O importante desse tópico é entender sobre:\n",
    "- **como os dois eixos se relacionam entre sí**\n",
    "- **o que eles representam para a correlação**\n",
    "\n",
    "assim fica mais intuitiva a de identificação de correlações."
   ]
  }
 ],
 "metadata": {
  "kernelspec": {
   "display_name": "Python 3 (ipykernel)",
   "language": "python",
   "name": "python3"
  },
  "language_info": {
   "codemirror_mode": {
    "name": "ipython",
    "version": 3
   },
   "file_extension": ".py",
   "mimetype": "text/x-python",
   "name": "python",
   "nbconvert_exporter": "python",
   "pygments_lexer": "ipython3",
   "version": "3.8.10"
  },
  "varInspector": {
   "cols": {
    "lenName": 16,
    "lenType": 16,
    "lenVar": 40
   },
   "kernels_config": {
    "python": {
     "delete_cmd_postfix": "",
     "delete_cmd_prefix": "del ",
     "library": "var_list.py",
     "varRefreshCmd": "print(var_dic_list())"
    },
    "r": {
     "delete_cmd_postfix": ") ",
     "delete_cmd_prefix": "rm(",
     "library": "var_list.r",
     "varRefreshCmd": "cat(var_dic_list()) "
    }
   },
   "types_to_exclude": [
    "module",
    "function",
    "builtin_function_or_method",
    "instance",
    "_Feature"
   ],
   "window_display": false
  }
 },
 "nbformat": 4,
 "nbformat_minor": 5
}
