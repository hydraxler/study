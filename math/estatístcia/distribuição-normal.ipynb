{
 "cells": [
  {
   "cell_type": "markdown",
   "id": "fb3da5aa",
   "metadata": {},
   "source": [
    "[Voitto](https://www.voitto.com.br/blog/artigo/distribuicao-normal)\n",
    "\n",
    "[UFSC](https://www.inf.ufsc.br/~andre.zibetti/probabilidade/normal.html)\n",
    "\n",
    "[Betrybe](https://blog.betrybe.com/estatistica/dist)\n",
    "\n",
    "[IME](https://www.ime.usp.br/~hbolfar/aula_2013/Aula6-A12012.pdf)\n",
    "\n",
    "[Khan](https://pt.khanacademy.org/math/em-mat-estatistica/x5d13d3b4b5b8c419:distribuicao-normal#x5d13d3b4b5b8c419:distribuicao-de-frequencia-normal)"
   ]
  },
  {
   "cell_type": "markdown",
   "id": "7958f1c0",
   "metadata": {},
   "source": [
    "distribuição normal é uma ferramenta relacionada a probabilidade e estatística, ela traça uma curva num gráfico cuja a área abaixo da mesma reprsenta todas as possibilidades que um valor (deste dataset estudado) pode assumir, ou seja **todo e qualquer valor de um dataset se encontra embaixo da curva**."
   ]
  },
  {
   "cell_type": "markdown",
   "id": "f1d72276",
   "metadata": {},
   "source": [
    "A distribuição normal é uma função (função densidade de probabilidade), que recebe dois parâmetros a **média** e o **desvio padrão** (letras gregas mí e sigma), a saída é uma curva no formato de sino que irá representar a distribuição dos dados a grosso modo.\n",
    "\n",
    "\n",
    "quanto maior o  o tamanho de um ds, mais ele tende a se encaixar na distribuição gaussiana, essa \"lei\" é observada apartir do comportamento de diversas variáveis na vida real, bem como muitos fenomenos naturais."
   ]
  },
  {
   "cell_type": "markdown",
   "id": "1c7d9480",
   "metadata": {},
   "source": [
    "pode ser usada como teste para validar a distribuição de dados."
   ]
  },
  {
   "cell_type": "markdown",
   "id": "9581d808",
   "metadata": {},
   "source": [
    "pode ser usada como um validador para descobrir qual o melhor coeficiente de correlação a ser usado para analisar correlações entre duas variáveis."
   ]
  },
  {
   "cell_type": "markdown",
   "id": "990d640b",
   "metadata": {},
   "source": [
    "Exemplos de cruvas normal, ou também conhecida como \"curva no formato de sino\" e faz todo o sentido..."
   ]
  },
  {
   "cell_type": "markdown",
   "id": "6147cfd4",
   "metadata": {},
   "source": [
    "![](https://www.inf.ufsc.br/~andre.zibetti/probabilidade/figures/norm1b-1.png)"
   ]
  },
  {
   "cell_type": "markdown",
   "id": "bcd01fd9",
   "metadata": {},
   "source": [
    "![](https://www.inf.ufsc.br/~andre.zibetti/probabilidade/figures/norm2-1.png)"
   ]
  },
  {
   "cell_type": "markdown",
   "id": "b2d69ada",
   "metadata": {
    "heading_collapsed": true
   },
   "source": [
    "# regra empírica"
   ]
  },
  {
   "cell_type": "markdown",
   "id": "8ab8cfff",
   "metadata": {
    "hidden": true
   },
   "source": [
    "68 - 95 - 99,7"
   ]
  },
  {
   "cell_type": "markdown",
   "id": "03278d12",
   "metadata": {
    "hidden": true
   },
   "source": [
    "Esta regra usa a **média** e o **desvio padrão** para inferir qual a *proobabilidade de um número qualquer do ds estar em um determinado intervalo*.\n",
    "\n",
    "*Cada intervalo é definido por  \"n vezes o  dp\" além da média ou menos da média*"
   ]
  },
  {
   "cell_type": "markdown",
   "id": "f1386cbe",
   "metadata": {
    "hidden": true
   },
   "source": [
    "## um exemplo verbal rápido, sem referências visuais:"
   ]
  },
  {
   "cell_type": "markdown",
   "id": "11084bc1",
   "metadata": {
    "hidden": true
   },
   "source": [
    "(o dataset possúi 120.000 valores)\n",
    "\n",
    "média = 7.000\n",
    "\n",
    "desvio padrão = 1.200\n",
    "\n",
    "a chance de um indivíduo ter o valor entre ***5.800 & 8.200*** é de aproximadamente 68% (em uma distribuição normal)\n",
    "\n",
    "note que 5.800 é um valor que pode se distanciar até 1 * dp abaixo da média. e 8.200 acima"
   ]
  },
  {
   "cell_type": "markdown",
   "id": "aeb7ccc4",
   "metadata": {
    "heading_collapsed": true,
    "hidden": true
   },
   "source": [
    "## regra de forma visual"
   ]
  },
  {
   "cell_type": "markdown",
   "id": "b94e12ab",
   "metadata": {
    "hidden": true
   },
   "source": [
    "![](https://www.inf.ufsc.br/~andre.zibetti/probabilidade/figures/normal.PNG)"
   ]
  },
  {
   "cell_type": "markdown",
   "id": "230841a4",
   "metadata": {
    "heading_collapsed": true,
    "hidden": true
   },
   "source": [
    "### 68%"
   ]
  },
  {
   "cell_type": "markdown",
   "id": "8c1b80cc",
   "metadata": {
    "hidden": true
   },
   "source": [
    "é a chance de um número se encontrar no range(min = (média - 1.dp), max - (média + 1.dp)) , ou seja, números que estão *\"até 1 dp de distância da média pra cima e pra baixo\"*"
   ]
  },
  {
   "cell_type": "markdown",
   "id": "6eeb33d2",
   "metadata": {
    "hidden": true
   },
   "source": [
    "![](https://www.inf.ufsc.br/~andre.zibetti/probabilidade/figures/norm3-1.png)"
   ]
  },
  {
   "cell_type": "markdown",
   "id": "2515416d",
   "metadata": {
    "heading_collapsed": true,
    "hidden": true
   },
   "source": [
    "### 95%"
   ]
  },
  {
   "cell_type": "markdown",
   "id": "25f56d40",
   "metadata": {
    "hidden": true
   },
   "source": [
    "mesma coisa porém são 2 dp's de distância "
   ]
  },
  {
   "cell_type": "markdown",
   "id": "faa4e410",
   "metadata": {
    "hidden": true
   },
   "source": [
    "![](https://www.inf.ufsc.br/~andre.zibetti/probabilidade/figures/norm4-1.png)"
   ]
  },
  {
   "cell_type": "markdown",
   "id": "9356aded",
   "metadata": {
    "heading_collapsed": true,
    "hidden": true
   },
   "source": [
    "### 98%"
   ]
  },
  {
   "cell_type": "markdown",
   "id": "adae6124",
   "metadata": {
    "hidden": true
   },
   "source": [
    "são 3 dps de distância"
   ]
  },
  {
   "cell_type": "markdown",
   "id": "5418f69d",
   "metadata": {
    "hidden": true
   },
   "source": [
    "![](https://www.inf.ufsc.br/~andre.zibetti/probabilidade/figures/norm5-1.png)"
   ]
  },
  {
   "cell_type": "markdown",
   "id": "6e623762",
   "metadata": {
    "heading_collapsed": true,
    "hidden": true
   },
   "source": [
    "### intuição + outros termos"
   ]
  },
  {
   "cell_type": "markdown",
   "id": "abba8267",
   "metadata": {
    "hidden": true
   },
   "source": [
    "repare que a linha do meio é traçada justamente na média"
   ]
  },
  {
   "cell_type": "markdown",
   "id": "fd826a29",
   "metadata": {
    "hidden": true
   },
   "source": [
    "cada fase possui dois lados portanto é importante saber que a probabilidade é cheia, se eu quero saber só de um lado eu preciso dividir a probabilidade por dois, já que a área será menor"
   ]
  },
  {
   "cell_type": "markdown",
   "id": "5ca43ce9",
   "metadata": {
    "hidden": true
   },
   "source": [
    "o nome dos extremos são caudas"
   ]
  },
  {
   "cell_type": "markdown",
   "id": "2e4c7416",
   "metadata": {},
   "source": [
    "# teste de normalidade"
   ]
  },
  {
   "cell_type": "markdown",
   "id": "b352800f",
   "metadata": {},
   "source": [
    "Como saber se um dataset se possui uma **distribuição normal**"
   ]
  },
  {
   "cell_type": "markdown",
   "id": "8b0e2703",
   "metadata": {},
   "source": [
    "usando o teste de shapiro-wilk\n",
    "\n",
    "eu não sei se esse conteúdo será usual, por isso caso precise eu estudo depois.\n",
    "\n",
    "\n",
    "seguindo a hipótese de que a distribuição é normal o testede shapiro-wilk deve retornar um valor de p > alpha (n entendi nada mais é isso)"
   ]
  }
 ],
 "metadata": {
  "kernelspec": {
   "display_name": "Python 3 (ipykernel)",
   "language": "python",
   "name": "python3"
  },
  "language_info": {
   "codemirror_mode": {
    "name": "ipython",
    "version": 3
   },
   "file_extension": ".py",
   "mimetype": "text/x-python",
   "name": "python",
   "nbconvert_exporter": "python",
   "pygments_lexer": "ipython3",
   "version": "3.10.6"
  },
  "varInspector": {
   "cols": {
    "lenName": 16,
    "lenType": 16,
    "lenVar": 40
   },
   "kernels_config": {
    "python": {
     "delete_cmd_postfix": "",
     "delete_cmd_prefix": "del ",
     "library": "var_list.py",
     "varRefreshCmd": "print(var_dic_list())"
    },
    "r": {
     "delete_cmd_postfix": ") ",
     "delete_cmd_prefix": "rm(",
     "library": "var_list.r",
     "varRefreshCmd": "cat(var_dic_list()) "
    }
   },
   "types_to_exclude": [
    "module",
    "function",
    "builtin_function_or_method",
    "instance",
    "_Feature"
   ],
   "window_display": false
  }
 },
 "nbformat": 4,
 "nbformat_minor": 5
}
