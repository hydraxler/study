{
 "cells": [
  {
   "cell_type": "markdown",
   "id": "8f67b356",
   "metadata": {},
   "source": [
    "[Esse artigo](https://gec.proec.ufabc.edu.br/o-que-que-a-ciencia-tem/qual-a-diferenca-entre-correlacao-e-causalidade/) com uma retórica super simples pode lhe ajudar a explicar a diferença desses dois conceitos a outras pessoas com pouca visão estatística quando for necessário.\n",
    "\n",
    "[Esse outro artigo](https://medium.com/@felipemaiapolo/correla%C3%A7%C3%A3o-n%C3%A3o-implica-em-causalidade-8459179ad1bc) é onde você deve começar.\n",
    "\n",
    "sabendo da diferença entre correlação e causalidade [o que fazer](https://medium.com/@felipemaiapolo/correla%C3%A7%C3%A3o-n%C3%A3o-implica-em-causalidade-8459179ad1bc)?"
   ]
  },
  {
   "cell_type": "markdown",
   "id": "4f66b1a9-46d9-45ff-ae9c-549d004177a0",
   "metadata": {},
   "source": [
    "Estes artigos descrevem muito melhor do que se eu escrevesse, portanto, se esse conteúdo foi compartilhado com você estude pelos artigos, pois o que vou escrever é apenas o meu resumo, para não perder o custume de o fazer com minhas palavras."
   ]
  },
  {
   "cell_type": "markdown",
   "id": "0f82fbfd-bbbb-486d-867a-4f3fd35700a5",
   "metadata": {
    "tags": []
   },
   "source": [
    "### Correlação"
   ]
  },
  {
   "cell_type": "markdown",
   "id": "11820653-0322-4d67-8f95-53e06a87bd86",
   "metadata": {},
   "source": [
    "Correlação, como já estudamos, é uma tendência ou padrão encontrada na relação de duas variáveis, a maneira mais comum de entender essa tendencia ou padrão é analisando diagramas de disperção.\n",
    "\n",
    "veja os tipos de correlação representados em diagramas de disperção"
   ]
  },
  {
   "cell_type": "markdown",
   "id": "c2bf8e97-5d8a-4635-8ccb-f00948665107",
   "metadata": {},
   "source": [
    "![tipos de correlação](https://escoladedados.org/wp-content/uploads/2021/07/correlacao.png)"
   ]
  },
  {
   "cell_type": "markdown",
   "id": "a29d80ee-d6ca-464f-80b1-720ca5aec730",
   "metadata": {},
   "source": [
    "uma correlação pode ser enganosa, pois somente em alguns casos ela responderá um comportamento de uma variável.\n",
    "\n",
    "Por exemplo, imagine que existe uma correlação entre a quantidade de horas que uma criança estuda e as notas que ela tira, é de se imaginar que essa correlação seja no mínimo válida, porém imagine que exista uma correlação ainda mais forte que essa, entre  acidentes de carro em relação ao desempenho das safras de milho, não faz sentido dizer que um cause o outro."
   ]
  },
  {
   "cell_type": "markdown",
   "id": "e8d9fe75-e3c3-416a-9b01-e6eb90db0a23",
   "metadata": {
    "jp-MarkdownHeadingCollapsed": true,
    "tags": []
   },
   "source": [
    "### Causalidade"
   ]
  },
  {
   "cell_type": "markdown",
   "id": "bdd0daa6-44e9-4d06-ae71-74c46aeeef09",
   "metadata": {},
   "source": [
    "Causalidade é justamente a relação forte entre duas variáveis, sendo uma o **motivo** e a outra a **consequência**, por exemplo imagine uma correlação entre acidentes de carrosdurante a madrugada e quantidade de pessoas que consômem alcool e dirigem em seguida, essa me parece bem forte, e se estratificarmos e verificarmos outras variáveis, poderiamos chegar a conclusão definitiva de que, o fato dessas pessoas beberem e dirigirem em seguida **causa** mais acidentes durante a madrugada."
   ]
  },
  {
   "cell_type": "markdown",
   "id": "64786b5b-b465-40bf-94e4-4c5ae13b3385",
   "metadata": {},
   "source": [
    "repare como é sempre difícil provar que uma coisa causa a outra, isso porque no mundo real o cenário pode ser composto por muitas variáveis, e elas podem interferir o experimento, por isso o método científico aparenta ser tão \"cético\"-e de fato é cético, mas não vou explicar o significado real de ceticismo agora-"
   ]
  },
  {
   "cell_type": "markdown",
   "id": "959045e2-8db6-448d-aee2-8b3f3bb59d14",
   "metadata": {},
   "source": [
    "### Conclusão"
   ]
  },
  {
   "cell_type": "markdown",
   "id": "98de5a2f-5183-4782-9e9e-ec788a81283a",
   "metadata": {},
   "source": [
    "vai ser a primeira vez que vou citar aquilo que possivelmente é o maior clichê entre os estatísticos...\n",
    "\n",
    "\n",
    "**Correlação não é causalidade!**"
   ]
  },
  {
   "cell_type": "markdown",
   "id": "12837aa1-8635-4269-8d2f-9e5c20a7ea97",
   "metadata": {},
   "source": [
    "Eu acredito que a melhor maneira de internalizar essa noção, é buscando ser uma pessoa mais cética com relação a qualquer opinião, e já que somos \"de dados\" -não gosto desse termo- podemos buscar a validação com o método experimental, para ao menos embasar uma correlação aproximando ela de uma causalidade."
   ]
  },
  {
   "cell_type": "markdown",
   "id": "bdbeb555-b209-4255-aa5c-cc141e25acf9",
   "metadata": {},
   "source": [
    "Em contra partida é preciso ter cuidado para não ter atitude blasée, isto é, não ser absolutamente indiferente perante uma correlação pois \"não há como confirmar a causalidade\".\n",
    "\n",
    "Essa experiência para saber quando usar a intuição para validar uma correlação,se necessário, virá com o tempo, acredito eu."
   ]
  },
  {
   "cell_type": "markdown",
   "id": "a6fc1325-9635-4ddd-9a69-a5d139c25e07",
   "metadata": {},
   "source": [
    "eu simplesmente não sei como contribuir para a noção de \"como lidar com causalidades\", não nesse momento."
   ]
  }
 ],
 "metadata": {
  "kernelspec": {
   "display_name": "Python 3 (ipykernel)",
   "language": "python",
   "name": "python3"
  },
  "language_info": {
   "codemirror_mode": {
    "name": "ipython",
    "version": 3
   },
   "file_extension": ".py",
   "mimetype": "text/x-python",
   "name": "python",
   "nbconvert_exporter": "python",
   "pygments_lexer": "ipython3",
   "version": "3.8.10"
  },
  "varInspector": {
   "cols": {
    "lenName": 16,
    "lenType": 16,
    "lenVar": 40
   },
   "kernels_config": {
    "python": {
     "delete_cmd_postfix": "",
     "delete_cmd_prefix": "del ",
     "library": "var_list.py",
     "varRefreshCmd": "print(var_dic_list())"
    },
    "r": {
     "delete_cmd_postfix": ") ",
     "delete_cmd_prefix": "rm(",
     "library": "var_list.r",
     "varRefreshCmd": "cat(var_dic_list()) "
    }
   },
   "types_to_exclude": [
    "module",
    "function",
    "builtin_function_or_method",
    "instance",
    "_Feature"
   ],
   "window_display": false
  }
 },
 "nbformat": 4,
 "nbformat_minor": 5
}
