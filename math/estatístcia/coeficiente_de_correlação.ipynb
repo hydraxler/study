{
 "cells": [
  {
   "cell_type": "markdown",
   "id": "19571f51",
   "metadata": {},
   "source": [
    "[khan academy](https://pt.khanacademy.org/math/em-mat-estatistica/x5d13d3b4b5b8c419:medidas-de-dispersao/x5d13d3b4b5b8c419:graficos-de-dispersao/v/correlation-coefficient-intuition-examples?modal=1)\n",
    "\n",
    "[youtube](https://www.youtube.com/results?search_query=coeficiente+de+correla%C3%A7%C3%A3o+de+pearson)\n",
    "\n",
    "[wiki](https://pt.wikipedia.org/wiki/Coeficiente_de_correla%C3%A7%C3%A3o_de_Pearson)"
   ]
  },
  {
   "cell_type": "markdown",
   "id": "0770e749",
   "metadata": {
    "heading_collapsed": true,
    "tags": []
   },
   "source": [
    "# desenvolvendo intuição a respeito do coeficiente de corelação"
   ]
  },
  {
   "cell_type": "markdown",
   "id": "4d05a30c",
   "metadata": {
    "hidden": true
   },
   "source": [
    "o coeficiente de corelação é algo que tenta medir de forma matemática a qualidade de uma correlação representada em um gráfico de disperção.\n",
    "\n",
    "fator qualidade em uma correlação de forma visual\n",
    "![exemplo de qualidade de correlações](https://dataunirio.github.io/AulaCorrelacao/img/correlacao.png)\n",
    "\n",
    "Além da qualidade, o coeficiente de correlação aponta também a direção da tendência."
   ]
  },
  {
   "cell_type": "markdown",
   "id": "bff29239",
   "metadata": {
    "hidden": true,
    "tags": []
   },
   "source": [
    "## O coeficiente de correlação é um número, como por exemplo 0,89"
   ]
  },
  {
   "cell_type": "markdown",
   "id": "249f365c",
   "metadata": {
    "hidden": true
   },
   "source": [
    "a partir somente desse número podemos dizer algumas coisas, como:\n",
    "- se a correlação é fraca ou forte\n",
    "- se a tendência é positiva | negativa (diretmente | inversamente proporcional)\n",
    "- se existe de fato uma correlação"
   ]
  },
  {
   "cell_type": "markdown",
   "id": "2bad4ae4",
   "metadata": {
    "hidden": true,
    "tags": []
   },
   "source": [
    "## quanto mais perto do zero mais fraca será a correlação, e se for = 0 então ela nem existe.\n",
    "observe sem tentar gravar como regra nesse momento.\n",
    "\n",
    "- 0.9 | maior indica uma correlação **muito forte**.\n",
    "- 0.7 á 0.9 indica uma correlação **forte**.\n",
    "- 0.5 á 0.7 indica uma correlação **moderada**.\n",
    "- 0.3 á 0.5 indica uma correlação **fraca**.\n",
    "- 0.0 á 0.3 indica uma correlação **desprezível**.\n",
    "\n",
    "\n",
    "isso serve tanto para um coeficiente 0.99 quanto para um - 0.99, o sinal indica que o segundo coeficiente tem uma tendência negativa, porém é uma correlação tão forte o quanto o primeiro.\n",
    "\n",
    "ou seja:\n",
    "\n",
    "um coeficiente de correlação **próximo á 1** representa uma proporcionalidade **alta** entre duas variáveis\n",
    "\n",
    "um coeficiente de correlação **próximo á 0** representa uma proporcionalidade **baixa** entre duas variáveis"
   ]
  },
  {
   "cell_type": "markdown",
   "id": "c65a139f-4117-4163-ba1c-49f30d9ea892",
   "metadata": {
    "heading_collapsed": true
   },
   "source": [
    "# Pearson"
   ]
  },
  {
   "cell_type": "markdown",
   "id": "7d6486b8",
   "metadata": {
    "hidden": true
   },
   "source": [
    "## Como obter o coeficiente de pearson"
   ]
  },
  {
   "cell_type": "markdown",
   "id": "d29fcd9f",
   "metadata": {
    "hidden": true
   },
   "source": [
    "### a ideia por trás"
   ]
  },
  {
   "cell_type": "markdown",
   "id": "c595b7ed",
   "metadata": {
    "hidden": true
   },
   "source": [
    "### a formula em sí"
   ]
  },
  {
   "cell_type": "markdown",
   "id": "1ae87ccd",
   "metadata": {
    "hidden": true
   },
   "source": [
    "#### formula"
   ]
  },
  {
   "cell_type": "markdown",
   "id": "df24d75a",
   "metadata": {
    "hidden": true
   },
   "source": [
    "![pearson](https://static.significados.com.br/foto/equacao-correlacao-etapa-6.png)"
   ]
  },
  {
   "cell_type": "markdown",
   "id": "52981053",
   "metadata": {
    "hidden": true
   },
   "source": [
    "#### destrinchando"
   ]
  },
  {
   "cell_type": "markdown",
   "id": "122d2c01",
   "metadata": {
    "hidden": true
   },
   "source": [
    "##### explicando a parte de cima "
   ]
  },
  {
   "cell_type": "markdown",
   "id": "994bdefc",
   "metadata": {
    "hidden": true
   },
   "source": [
    "[ n(Sxy) - Sx(Sy) ]\n",
    " \n",
    "n = número de cordenadas no gráfico de disperção\n",
    "\n",
    "Sxy = soma de x * y de cada \n",
    "\n",
    "Sx(Sy) = soma de todos os valores de x vezes o mesmo de y"
   ]
  },
  {
   "cell_type": "markdown",
   "id": "c55a7d69",
   "metadata": {
    "hidden": true
   },
   "source": [
    "##### explicando a parte de baixo"
   ]
  },
  {
   "cell_type": "markdown",
   "id": "17a27946",
   "metadata": {
    "hidden": true
   },
   "source": [
    "√nSx² - (Sx)² * [igualmente para y]\n",
    "\n",
    "n = numero de cordenadas\n",
    "\n",
    "Sx² = soma de todos os valores de x ao quadrado\n",
    "\n",
    "(Sx)² = quadrado do resultado da soma de todos os valores de x]\n",
    "\n",
    "\n",
    "repetir pra y"
   ]
  },
  {
   "cell_type": "markdown",
   "id": "155814d0",
   "metadata": {
    "hidden": true
   },
   "source": [
    "##### e depois de calcular as duas partes?"
   ]
  },
  {
   "cell_type": "markdown",
   "id": "a686d254",
   "metadata": {
    "hidden": true
   },
   "source": [
    "teremos uma fração simples, onde o de baixo nunca deve ser maior que o de cima, e quando mais próximo ele estiver do de cima \"mais perfeita\" será a correlação analisada, se tiverem sinais diferentes então será uma correlação negativa"
   ]
  },
  {
   "cell_type": "markdown",
   "id": "67e66993",
   "metadata": {
    "heading_collapsed": true,
    "hidden": true
   },
   "source": [
    "## Como ele se parece"
   ]
  },
  {
   "cell_type": "markdown",
   "id": "9866bdbc",
   "metadata": {
    "hidden": true
   },
   "source": [
    "Será um número entre -1 e 1, incluindo os dois\n",
    "\n",
    "Quanto mais próximo das extremidades [-1, 1] mais forte será a correlação.\n",
    "\n",
    "    sendo -1 ou 1 correlações perfeitas.\n",
    "\n",
    "Quanto mais próximo do meio [0] mais fraca será a correlação. \n",
    "\n",
    "    se = 0 não existe correlação.\n",
    "\n",
    "if negativo:\n",
    "\n",
    "    então estamos falando de uma correlação inversamente proporcional, e chamamos essa correlação de **\"correlação negativa\"**\n",
    "\n",
    "if positivo:\n",
    "\n",
    "    então a relação será diretamente proporcional, chamada tambéam de **\"correlação positiva\"**."
   ]
  },
  {
   "cell_type": "markdown",
   "id": "ac1b88aa",
   "metadata": {
    "hidden": true
   },
   "source": [
    "a correlação pode ser um número como:\n",
    "\n",
    "\n",
    "0,897966"
   ]
  },
  {
   "cell_type": "markdown",
   "id": "9b7e2158",
   "metadata": {
    "heading_collapsed": true
   },
   "source": [
    "# Speraman"
   ]
  },
  {
   "cell_type": "markdown",
   "id": "c823426f",
   "metadata": {
    "heading_collapsed": true
   },
   "source": [
    "# Quando usar cada um "
   ]
  },
  {
   "cell_type": "markdown",
   "id": "cdb627e7",
   "metadata": {
    "hidden": true
   },
   "source": [
    "Usa-se Pearson quando as duas variáveis passarem no teste de normalidade, isto é, possuírem uma distribuição normal.\n",
    "\n",
    "\n",
    "Se caso uma das variáveis possuir uma distribuição A-normal, então usar o coeficiente de Spearman."
   ]
  }
 ],
 "metadata": {
  "kernelspec": {
   "display_name": "Python 3 (ipykernel)",
   "language": "python",
   "name": "python3"
  },
  "language_info": {
   "codemirror_mode": {
    "name": "ipython",
    "version": 3
   },
   "file_extension": ".py",
   "mimetype": "text/x-python",
   "name": "python",
   "nbconvert_exporter": "python",
   "pygments_lexer": "ipython3",
   "version": "3.10.6"
  },
  "varInspector": {
   "cols": {
    "lenName": 16,
    "lenType": 16,
    "lenVar": 40
   },
   "kernels_config": {
    "python": {
     "delete_cmd_postfix": "",
     "delete_cmd_prefix": "del ",
     "library": "var_list.py",
     "varRefreshCmd": "print(var_dic_list())"
    },
    "r": {
     "delete_cmd_postfix": ") ",
     "delete_cmd_prefix": "rm(",
     "library": "var_list.r",
     "varRefreshCmd": "cat(var_dic_list()) "
    }
   },
   "types_to_exclude": [
    "module",
    "function",
    "builtin_function_or_method",
    "instance",
    "_Feature"
   ],
   "window_display": false
  },
  "vscode": {
   "interpreter": {
    "hash": "916dbcbb3f70747c44a77c7bcd40155683ae19c65e1c03b4aa3499c5328201f1"
   }
  }
 },
 "nbformat": 4,
 "nbformat_minor": 5
}
